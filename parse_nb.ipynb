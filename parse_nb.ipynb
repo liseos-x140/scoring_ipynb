{
 "cells": [
  {
   "cell_type": "code",
   "execution_count": 5,
   "metadata": {},
   "outputs": [],
   "source": [
    "import json\n",
    "from pprint import pprint"
   ]
  },
  {
   "cell_type": "code",
   "execution_count": 3,
   "metadata": {},
   "outputs": [],
   "source": [
    "with open(\"./kadai01_answer_01.ipynb\", \"r\") as f:\n",
    "    nb = json.load(f)\n",
    "    cells = nb[\"cells\"]"
   ]
  },
  {
   "cell_type": "code",
   "execution_count": 6,
   "metadata": {},
   "outputs": [
    {
     "name": "stdout",
     "output_type": "stream",
     "text": [
      "[{'cell_type': 'markdown', 'metadata': {}, 'source': ['# 課題']},\n",
      " {'cell_type': 'raw', 'metadata': {}, 'source': ['名前:student1  学籍番号:1']},\n",
      " {'cell_type': 'markdown',\n",
      "  'metadata': {},\n",
      "  'source': ['## 問1\\n', '`print()` を用いて「Hello World!」と出力']},\n",
      " {'cell_type': 'code',\n",
      "  'execution_count': 1,\n",
      "  'metadata': {},\n",
      "  'outputs': [{'name': 'stdout',\n",
      "               'output_type': 'stream',\n",
      "               'text': ['Hello World!\\n']}],\n",
      "  'source': ['# 解答欄\\n', 'print(\"Hello World!\")']},\n",
      " {'cell_type': 'markdown',\n",
      "  'metadata': {},\n",
      "  'source': ['## 問2\\n', '$10!$ を計算し，結果を`print()`で出力']},\n",
      " {'cell_type': 'code',\n",
      "  'execution_count': 3,\n",
      "  'metadata': {},\n",
      "  'outputs': [{'name': 'stdout',\n",
      "               'output_type': 'stream',\n",
      "               'text': ['3628800\\n']}],\n",
      "  'source': ['# 解答欄\\n', 'import math\\n', 'print(math.factorial(10))']},\n",
      " {'cell_type': 'markdown', 'metadata': {}, 'source': ['## 評価\\n', '### 点数']},\n",
      " {'cell_type': 'code',\n",
      "  'execution_count': None,\n",
      "  'metadata': {},\n",
      "  'outputs': [],\n",
      "  'source': []},\n",
      " {'cell_type': 'markdown', 'metadata': {}, 'source': ['### コメント']},\n",
      " {'cell_type': 'code',\n",
      "  'execution_count': None,\n",
      "  'metadata': {},\n",
      "  'outputs': [],\n",
      "  'source': []}]\n"
     ]
    }
   ],
   "source": [
    "pprint(cells)"
   ]
  },
  {
   "cell_type": "code",
   "execution_count": null,
   "metadata": {},
   "outputs": [],
   "source": []
  }
 ],
 "metadata": {
  "kernelspec": {
   "display_name": "Python 3",
   "language": "python",
   "name": "python3"
  },
  "language_info": {
   "codemirror_mode": {
    "name": "ipython",
    "version": 3
   },
   "file_extension": ".py",
   "mimetype": "text/x-python",
   "name": "python",
   "nbconvert_exporter": "python",
   "pygments_lexer": "ipython3",
   "version": "3.8.0"
  }
 },
 "nbformat": 4,
 "nbformat_minor": 4
}
