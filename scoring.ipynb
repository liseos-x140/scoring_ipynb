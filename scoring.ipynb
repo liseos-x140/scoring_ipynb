{
 "cells": [
  {
   "cell_type": "code",
   "execution_count": 9,
   "metadata": {},
   "outputs": [],
   "source": [
    "import pathlib\n",
    "import glob\n",
    "import json\n",
    "from pprint import pprint\n",
    "\n",
    "\n",
    "def identify_cell(sentence, cells, cell_type='markdown'):\n",
    "    \"\"\"全てのセルから条件に一致するセルの番号をreturn\"\"\"\n",
    "    for i,_cell in enumerate(cells):\n",
    "        if _cell['cell_type'] == cell_type \\\n",
    "           and _cell['source'][0] == sentence:\n",
    "            _cell_num = i\n",
    "            break\n",
    "    return _cell_num\n",
    "\n",
    "\n",
    "# path to notebook(.ipynb)\n",
    "p_nb = pathlib.Path(\"./answer/\")\n",
    "\n",
    "# notebooks(.ipynb)\n",
    "for _nb in p_nb.glob(\"*.ipynb\"):\n",
    "    # load json (*.ipynb)\n",
    "    with open(_nb, \"r\")as f:\n",
    "        nb = json.load(f)\n",
    "        cells = nb[\"cells\"]\n",
    "        \n",
    "    score = 0\n",
    "    #pprint(cells)\n",
    "    \n",
    "    # q1\n",
    "    # identify cell\n",
    "    _cn = identify_cell(sentence=\"## 問1\\n\",\n",
    "                        cells=cells)\n",
    "    ans_cell = cells[_cn + 1]\n",
    "    \n",
    "    try:\n",
    "        result = ans_cell['outputs'][0][\"text\"][0]\n",
    "        if result == \"Hello World!\\n\":\n",
    "            score += 1\n",
    "    except:\n",
    "        pass\n",
    "    \n",
    "    # q2\n",
    "    # identify cell\n",
    "    _cn = identify_cell(sentence=\"## 問2\\n\",\n",
    "                        cells=cells)\n",
    "    ans_cell = cells[_cn + 1]\n",
    "    \n",
    "    try:\n",
    "        result = ans_cell['outputs'][0][\"text\"][0]\n",
    "        if result == \"3628800\\n\":\n",
    "            score += 1\n",
    "    except:\n",
    "        pass\n",
    "    \n",
    "    if score == 2:  # 満点=2点の場合\n",
    "        # identify cell\n",
    "        _cn = identify_cell(sentence=\"## 評価\\n\",\n",
    "                            cells=cells)\n",
    "\n",
    "        # score cellの上書き\n",
    "        cells[_cn + 1] = {'cell_type': 'code',\n",
    "                          'execution_count': None,\n",
    "                          'metadata': {},\n",
    "                          'outputs': [],\n",
    "                          'source': [str(2)]}\n",
    "\n",
    "        # 解答用のipynbにdump (上書き)\n",
    "        json.dump(nb, _nb.open(\"w\"))"
   ]
  },
  {
   "cell_type": "markdown",
   "metadata": {},
   "source": [
    "backupはスクリプトでは用意していません."
   ]
  },
  {
   "cell_type": "code",
   "execution_count": null,
   "metadata": {},
   "outputs": [],
   "source": []
  }
 ],
 "metadata": {
  "kernelspec": {
   "display_name": "Python 3",
   "language": "python",
   "name": "python3"
  },
  "language_info": {
   "codemirror_mode": {
    "name": "ipython",
    "version": 3
   },
   "file_extension": ".py",
   "mimetype": "text/x-python",
   "name": "python",
   "nbconvert_exporter": "python",
   "pygments_lexer": "ipython3",
   "version": "3.8.0"
  }
 },
 "nbformat": 4,
 "nbformat_minor": 4
}
